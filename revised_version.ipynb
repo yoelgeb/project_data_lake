{
 "cells": [
  {
   "cell_type": "code",
   "execution_count": 1,
   "metadata": {},
   "outputs": [],
   "source": [
    "import pandas as pd\n",
    "import numpy as np\n",
    "import sqlalchemy\n",
    "\n",
    "from sqlalchemy_utils.functions import database_exists, create_database\n",
    "from sqlalchemy.orm import declarative_base\n",
    "from sqlalchemy import Identity"
   ]
  },
  {
   "cell_type": "code",
   "execution_count": 2,
   "metadata": {},
   "outputs": [],
   "source": [
    "PASSWORD = \"root\"\n",
    "USERNAME = \"root\"\n",
    "HOSTNAME = \"localhost\"\n",
    "PORT = \"3306\"\n",
    "DB_NAME = \"data_lake_v2\"\n",
    "DATA_LAKE_FILEPATH = \"./data/data_lake.csv\"\n",
    "SQLITE_ENGINE_DRIVER = f\"sqlite+pysqlite:///{DB_NAME}\"\n",
    "MYSQL_ENGINE_DRIVER = f\"mysql+mysqlconnector://{USERNAME}:{PASSWORD}@{HOSTNAME}:{PORT}/{DB_NAME}\"\n"
   ]
  },
  {
   "attachments": {},
   "cell_type": "markdown",
   "metadata": {},
   "source": [
    "Creating SQLAlchemy Model"
   ]
  },
  {
   "cell_type": "code",
   "execution_count": 3,
   "metadata": {},
   "outputs": [],
   "source": [
    "Base = declarative_base()\n"
   ]
  },
  {
   "cell_type": "code",
   "execution_count": 4,
   "metadata": {},
   "outputs": [],
   "source": [
    "class PokemonCards(Base):\n",
    "    __tablename__ = 'pokemon_cards'\n",
    "    pokemon_card_id = sqlalchemy.Column(\"pokemon_card_id\", sqlalchemy.Integer, primary_key=True)\n",
    "    name = sqlalchemy.Column(\"name\", sqlalchemy.String(length=70), nullable=False)\n",
    "    card_number = sqlalchemy.Column(\"card_number\", sqlalchemy.String(length=50), nullable=False)\n",
    "    price = sqlalchemy.Column(\"price\", sqlalchemy.Float, nullable=False)\n",
    "    card_type = sqlalchemy.Column(\"card_type\", sqlalchemy.String(200))\n",
    "    generation = sqlalchemy.Column(\"generation\", sqlalchemy.String(200))\n",
    "\n",
    "    def __repr__(self):\n",
    "        return f\"(pokemon_card_id: {self.pokemon_card_id}, name:{self.name}, card_number:{self.card_number}, price: {self.price}, card_type: {self.card_type}, generation: {self.generation})\""
   ]
  },
  {
   "attachments": {},
   "cell_type": "markdown",
   "metadata": {},
   "source": [
    "Handle:\n",
    "1. Engine Creation\n",
    "2. Creating DB if not exist\n",
    "3. Creating Tables within database"
   ]
  },
  {
   "cell_type": "code",
   "execution_count": 5,
   "metadata": {},
   "outputs": [],
   "source": [
    "engine = sqlalchemy.create_engine(MYSQL_ENGINE_DRIVER, echo=False)\n",
    "\n",
    "# Create DB if not exist\n",
    "if not database_exists(engine.url):\n",
    "    create_database(engine.url)\n",
    "\n",
    "\n",
    "Base.metadata.drop_all(bind=engine)\n",
    "Base.metadata.create_all(bind=engine)\n"
   ]
  },
  {
   "attachments": {},
   "cell_type": "markdown",
   "metadata": {},
   "source": [
    "Importing data lake and start cleaning:\n",
    "1. Retrieve all columns in relation to pokemons.\n",
    "    1. Pokemon | Card Type | Generation | Card Number | Price \n",
    "2. Remove all nan values or replace them with valid data if necessary"
   ]
  },
  {
   "cell_type": "code",
   "execution_count": 6,
   "metadata": {},
   "outputs": [
    {
     "name": "stderr",
     "output_type": "stream",
     "text": [
      "C:\\Users\\joseh\\AppData\\Local\\Temp\\ipykernel_16492\\704102097.py:4: DtypeWarning: Columns (3,4,6,7,8,9,10,11,15,16,17,18,21,22,24,25,27,28,29,30,31) have mixed types. Specify dtype option on import or set low_memory=False.\n",
      "  data_lake = pd.read_csv(DATA_LAKE_FILEPATH)\n"
     ]
    }
   ],
   "source": [
    "columns_with_relation_to_pokemons = ['Pokemon', 'Card Number', 'Price', 'Card Type', 'Generation']\n",
    "table_columns_name = [ 'name', 'card_number', 'price', 'card_type', 'generation']\n",
    "\n",
    "data_lake = pd.read_csv(DATA_LAKE_FILEPATH)\n",
    "\n",
    "pokemon_df = data_lake[columns_with_relation_to_pokemons]"
   ]
  },
  {
   "cell_type": "code",
   "execution_count": 7,
   "metadata": {},
   "outputs": [
    {
     "data": {
      "text/plain": [
       "Pokemon        0\n",
       "Card Number    0\n",
       "Price          0\n",
       "Card Type      0\n",
       "Generation     0\n",
       "dtype: int64"
      ]
     },
     "execution_count": 7,
     "metadata": {},
     "output_type": "execute_result"
    }
   ],
   "source": [
    "# Cleaning NaN values | lower case strings | drop duplicates\n",
    "pokemon_df = pokemon_df.dropna().apply(lambda x: x.str.lower() if x.dtype == \"object\" else x).drop_duplicates()\n",
    "\n",
    "# Checking for any NaN value\n",
    "pokemon_df.isna().sum()\n"
   ]
  },
  {
   "attachments": {},
   "cell_type": "markdown",
   "metadata": {},
   "source": [
    "Updating dataframe_column names to match values for our database table:"
   ]
  },
  {
   "cell_type": "code",
   "execution_count": 8,
   "metadata": {},
   "outputs": [
    {
     "data": {
      "text/html": [
       "<div>\n",
       "<style scoped>\n",
       "    .dataframe tbody tr th:only-of-type {\n",
       "        vertical-align: middle;\n",
       "    }\n",
       "\n",
       "    .dataframe tbody tr th {\n",
       "        vertical-align: top;\n",
       "    }\n",
       "\n",
       "    .dataframe thead th {\n",
       "        text-align: right;\n",
       "    }\n",
       "</style>\n",
       "<table border=\"1\" class=\"dataframe\">\n",
       "  <thead>\n",
       "    <tr style=\"text-align: right;\">\n",
       "      <th></th>\n",
       "      <th>name</th>\n",
       "      <th>card_number</th>\n",
       "      <th>price</th>\n",
       "      <th>card_type</th>\n",
       "      <th>generation</th>\n",
       "    </tr>\n",
       "    <tr>\n",
       "      <th>pokemon_card_id</th>\n",
       "      <th></th>\n",
       "      <th></th>\n",
       "      <th></th>\n",
       "      <th></th>\n",
       "      <th></th>\n",
       "    </tr>\n",
       "  </thead>\n",
       "  <tbody>\n",
       "    <tr>\n",
       "      <th>1</th>\n",
       "      <td>ampharos</td>\n",
       "      <td>001 of 147</td>\n",
       "      <td>2.95</td>\n",
       "      <td>reverse holo</td>\n",
       "      <td>aquapolis</td>\n",
       "    </tr>\n",
       "    <tr>\n",
       "      <th>2</th>\n",
       "      <td>ampharos</td>\n",
       "      <td>001 of 147</td>\n",
       "      <td>2.50</td>\n",
       "      <td>standard</td>\n",
       "      <td>aquapolis</td>\n",
       "    </tr>\n",
       "    <tr>\n",
       "      <th>3</th>\n",
       "      <td>arcanine</td>\n",
       "      <td>002 of 147</td>\n",
       "      <td>3.95</td>\n",
       "      <td>reverse holo</td>\n",
       "      <td>aquapolis</td>\n",
       "    </tr>\n",
       "    <tr>\n",
       "      <th>4</th>\n",
       "      <td>arcanine</td>\n",
       "      <td>002 of 147</td>\n",
       "      <td>2.95</td>\n",
       "      <td>standard</td>\n",
       "      <td>aquapolis</td>\n",
       "    </tr>\n",
       "    <tr>\n",
       "      <th>5</th>\n",
       "      <td>ariados</td>\n",
       "      <td>003 of 147</td>\n",
       "      <td>2.50</td>\n",
       "      <td>reverse holo</td>\n",
       "      <td>aquapolis</td>\n",
       "    </tr>\n",
       "    <tr>\n",
       "      <th>...</th>\n",
       "      <td>...</td>\n",
       "      <td>...</td>\n",
       "      <td>...</td>\n",
       "      <td>...</td>\n",
       "      <td>...</td>\n",
       "    </tr>\n",
       "    <tr>\n",
       "      <th>25426</th>\n",
       "      <td>mega gardevoir ex</td>\n",
       "      <td>112 of 114</td>\n",
       "      <td>7.85</td>\n",
       "      <td>standard</td>\n",
       "      <td>xy - steam siege</td>\n",
       "    </tr>\n",
       "    <tr>\n",
       "      <th>25427</th>\n",
       "      <td>pokemon ranger</td>\n",
       "      <td>113 of 114</td>\n",
       "      <td>4.65</td>\n",
       "      <td>standard</td>\n",
       "      <td>xy - steam siege</td>\n",
       "    </tr>\n",
       "    <tr>\n",
       "      <th>25428</th>\n",
       "      <td>professor sycamore</td>\n",
       "      <td>114 of 114</td>\n",
       "      <td>6.85</td>\n",
       "      <td>standard</td>\n",
       "      <td>xy - steam siege</td>\n",
       "    </tr>\n",
       "    <tr>\n",
       "      <th>25429</th>\n",
       "      <td>volcanion ex</td>\n",
       "      <td>115 of 114</td>\n",
       "      <td>9.85</td>\n",
       "      <td>standard</td>\n",
       "      <td>xy - steam siege</td>\n",
       "    </tr>\n",
       "    <tr>\n",
       "      <th>25430</th>\n",
       "      <td>gardevoir ex</td>\n",
       "      <td>116 of 114</td>\n",
       "      <td>13.99</td>\n",
       "      <td>standard</td>\n",
       "      <td>xy - steam siege</td>\n",
       "    </tr>\n",
       "  </tbody>\n",
       "</table>\n",
       "<p>25430 rows × 5 columns</p>\n",
       "</div>"
      ],
      "text/plain": [
       "                               name card_number  price     card_type  \\\n",
       "pokemon_card_id                                                        \n",
       "1                          ampharos  001 of 147   2.95  reverse holo   \n",
       "2                          ampharos  001 of 147   2.50      standard   \n",
       "3                          arcanine  002 of 147   3.95  reverse holo   \n",
       "4                          arcanine  002 of 147   2.95      standard   \n",
       "5                           ariados  003 of 147   2.50  reverse holo   \n",
       "...                             ...         ...    ...           ...   \n",
       "25426             mega gardevoir ex  112 of 114   7.85      standard   \n",
       "25427                pokemon ranger  113 of 114   4.65      standard   \n",
       "25428            professor sycamore  114 of 114   6.85      standard   \n",
       "25429                  volcanion ex  115 of 114   9.85      standard   \n",
       "25430                  gardevoir ex  116 of 114  13.99      standard   \n",
       "\n",
       "                       generation  \n",
       "pokemon_card_id                    \n",
       "1                       aquapolis  \n",
       "2                       aquapolis  \n",
       "3                       aquapolis  \n",
       "4                       aquapolis  \n",
       "5                       aquapolis  \n",
       "...                           ...  \n",
       "25426            xy - steam siege  \n",
       "25427            xy - steam siege  \n",
       "25428            xy - steam siege  \n",
       "25429            xy - steam siege  \n",
       "25430            xy - steam siege  \n",
       "\n",
       "[25430 rows x 5 columns]"
      ]
     },
     "execution_count": 8,
     "metadata": {},
     "output_type": "execute_result"
    }
   ],
   "source": [
    "columns_mapping = dict(zip(columns_with_relation_to_pokemons, table_columns_name))\n",
    "pokemon_df.rename(columns=columns_mapping, inplace=True)\n",
    "pokemon_df.index = np.arange(1, len(pokemon_df) + 1)\n",
    "pokemon_df.index.name = \"pokemon_card_id\"\n",
    "pokemon_df"
   ]
  },
  {
   "attachments": {},
   "cell_type": "markdown",
   "metadata": {},
   "source": [
    "Pushing data to DB"
   ]
  },
  {
   "cell_type": "code",
   "execution_count": 9,
   "metadata": {},
   "outputs": [
    {
     "data": {
      "text/plain": [
       "25430"
      ]
     },
     "execution_count": 9,
     "metadata": {},
     "output_type": "execute_result"
    }
   ],
   "source": [
    "pokemon_df.to_sql(name=\"pokemon_cards\", con=engine, if_exists=\"replace\", index=True)"
   ]
  },
  {
   "attachments": {},
   "cell_type": "markdown",
   "metadata": {},
   "source": [
    "Queries:\n",
    "1. Select all from database\n",
    "2. Select all from database where price within range"
   ]
  },
  {
   "cell_type": "code",
   "execution_count": 26,
   "metadata": {},
   "outputs": [],
   "source": [
    "from sqlalchemy.orm import Session\n",
    "from sqlalchemy import select\n"
   ]
  },
  {
   "cell_type": "code",
   "execution_count": 28,
   "metadata": {},
   "outputs": [
    {
     "data": {
      "text/plain": [
       "[(pokemon_card_id: 1, name:ampharos, card_number:001 of 147, price: 2.95, card_type: reverse holo, generation: aquapolis),\n",
       " (pokemon_card_id: 2, name:ampharos, card_number:001 of 147, price: 2.5, card_type: standard, generation: aquapolis),\n",
       " (pokemon_card_id: 3, name:arcanine, card_number:002 of 147, price: 3.95, card_type: reverse holo, generation: aquapolis),\n",
       " (pokemon_card_id: 4, name:arcanine, card_number:002 of 147, price: 2.95, card_type: standard, generation: aquapolis),\n",
       " (pokemon_card_id: 5, name:ariados, card_number:003 of 147, price: 2.5, card_type: reverse holo, generation: aquapolis),\n",
       " (pokemon_card_id: 6, name:ariados, card_number:003 of 147, price: 1.5, card_type: standard, generation: aquapolis),\n",
       " (pokemon_card_id: 7, name:azumarill, card_number:004 of 147, price: 2.95, card_type: reverse holo, generation: aquapolis),\n",
       " (pokemon_card_id: 8, name:azumarill, card_number:004 of 147, price: 1.95, card_type: standard, generation: aquapolis),\n",
       " (pokemon_card_id: 9, name:bellossom, card_number:005 of 147, price: 2.95, card_type: reverse holo, generation: aquapolis),\n",
       " (pokemon_card_id: 10, name:bellossom, card_number:005 of 147, price: 1.95, card_type: standard, generation: aquapolis)]"
      ]
     },
     "execution_count": 28,
     "metadata": {},
     "output_type": "execute_result"
    }
   ],
   "source": [
    "# Query 1\n",
    "with Session(engine) as session:\n",
    "    stmt_one = select(PokemonCards).limit(10)\n",
    "    results = [x[0] for x in session.execute(stmt_one)]\n",
    "\n",
    "results"
   ]
  },
  {
   "cell_type": "code",
   "execution_count": null,
   "metadata": {},
   "outputs": [],
   "source": []
  },
  {
   "cell_type": "code",
   "execution_count": 38,
   "metadata": {},
   "outputs": [
    {
     "data": {
      "text/plain": [
       "[((pokemon_card_id: 1, name:ampharos, card_number:001 of 147, price: 2.95, card_type: reverse holo, generation: aquapolis),),\n",
       " ((pokemon_card_id: 2, name:ampharos, card_number:001 of 147, price: 2.5, card_type: standard, generation: aquapolis),),\n",
       " ((pokemon_card_id: 306, name:ampharos, card_number:h01 of h32, price: 7.95, card_type: standard, generation: aquapolis),),\n",
       " ((pokemon_card_id: 1109, name:ampharos, card_number:040 of 124, price: 2.29, card_type: reverse holo, generation: b&w - dragons exalted),),\n",
       " ((pokemon_card_id: 1110, name:ampharos, card_number:040 of 124, price: 1.65, card_type: standard, generation: b&w - dragons exalted),),\n",
       " ((pokemon_card_id: 3684, name:ampharos, card_number:23 of 95, price: 2.79, card_type: reverse holo, generation: call of legends),),\n",
       " ((pokemon_card_id: 3685, name:ampharos, card_number:23 of 95, price: 1.65, card_type: standard, generation: call of legends),),\n",
       " ((pokemon_card_id: 4962, name:ampharos, card_number:001 of 101, price: 5.75, card_type: reverse holo, generation: ex dragon frontiers),),\n",
       " ((pokemon_card_id: 4963, name:ampharos, card_number:001 of 101, price: 3.79, card_type: standard, generation: ex dragon frontiers),),\n",
       " ((pokemon_card_id: 7138, name:ampharos, card_number:001 of 115, price: 6.75, card_type: reverse holo, generation: ex unseen forces),)]"
      ]
     },
     "execution_count": 38,
     "metadata": {},
     "output_type": "execute_result"
    }
   ],
   "source": [
    "with Session(engine) as session:\n",
    "    stmt_two = select(PokemonCards).where(PokemonCards.name == \"ampharos\").limit(10)\n",
    "    results = [x for x in session.execute(stmt_two)]\n",
    "\n",
    "results\n"
   ]
  }
 ],
 "metadata": {
  "kernelspec": {
   "display_name": "venv",
   "language": "python",
   "name": "python3"
  },
  "language_info": {
   "codemirror_mode": {
    "name": "ipython",
    "version": 3
   },
   "file_extension": ".py",
   "mimetype": "text/x-python",
   "name": "python",
   "nbconvert_exporter": "python",
   "pygments_lexer": "ipython3",
   "version": "3.11.1"
  },
  "orig_nbformat": 4,
  "vscode": {
   "interpreter": {
    "hash": "f7aa0b474212facff0ef5de54a45b772862de00586064685e5f1dd5772e488b0"
   }
  }
 },
 "nbformat": 4,
 "nbformat_minor": 2
}
